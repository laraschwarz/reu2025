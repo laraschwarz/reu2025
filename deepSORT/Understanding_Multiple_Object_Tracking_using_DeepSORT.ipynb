{
 "cells": [
  {
   "cell_type": "markdown",
   "metadata": {
    "id": "V-uoEbhOMibi"
   },
   "source": [
    "# YOLOv5 installation"
   ]
  },
  {
   "cell_type": "markdown",
   "metadata": {
    "id": "zQGh9NmWMPnd"
   },
   "source": [
    "## Cloning Repositories"
   ]
  },
  {
   "cell_type": "code",
   "execution_count": null,
   "metadata": {
    "id": "2ABjbdEmMN_m"
   },
   "outputs": [],
   "source": [
    "!nvidia-smi"
   ]
  },
  {
   "cell_type": "code",
   "execution_count": 5,
   "metadata": {
    "id": "3xL9TmthDQXm"
   },
   "outputs": [
    {
     "name": "stdout",
     "output_type": "stream",
     "text": [
      "Cloning into 'yolov5'...\n",
      "remote: Enumerating objects: 17493, done.\u001b[K\n",
      "remote: Counting objects: 100% (7/7), done.\u001b[K\n",
      "remote: Compressing objects: 100% (7/7), done.\u001b[K\n",
      "remote: Total 17493 (delta 2), reused 0 (delta 0), pack-reused 17486 (from 2)\u001b[K\n",
      "Receiving objects: 100% (17493/17493), 16.56 MiB | 2.77 MiB/s, done.\n",
      "Resolving deltas: 100% (11997/11997), done.\n"
     ]
    }
   ],
   "source": [
    "!git clone https://github.com/ultralytics/yolov5.git"
   ]
  },
  {
   "cell_type": "code",
   "execution_count": 6,
   "metadata": {
    "id": "qz6IWzsODWaz"
   },
   "outputs": [
    {
     "name": "stdout",
     "output_type": "stream",
     "text": [
      "/Users/laraschwarz/Code/reu2025/deepSORT/yolov5/yolov5\n"
     ]
    }
   ],
   "source": [
    "%cd ./yolov5"
   ]
  },
  {
   "cell_type": "code",
   "execution_count": 2,
   "metadata": {
    "id": "d57rBtr5REVV"
   },
   "outputs": [
    {
     "name": "stdout",
     "output_type": "stream",
     "text": [
      "fatal: destination path 'deep_sort' already exists and is not an empty directory.\n"
     ]
    }
   ],
   "source": [
    "!git clone https://github.com/nwojke/deep_sort.git"
   ]
  },
  {
   "cell_type": "markdown",
   "metadata": {
    "id": "j3v2o1cOMXHs"
   },
   "source": [
    "## Installing Requirements"
   ]
  },
  {
   "cell_type": "code",
   "execution_count": 3,
   "metadata": {
    "id": "yMX_TT2kBEmf"
   },
   "outputs": [
    {
     "name": "stdout",
     "output_type": "stream",
     "text": [
      "Collecting matplotlib>=3.2.2 (from -r requirements.txt (line 4))\n",
      "  Downloading matplotlib-3.9.4-cp39-cp39-macosx_11_0_arm64.whl.metadata (11 kB)\n",
      "Collecting numpy>=1.18.5 (from -r requirements.txt (line 5))\n",
      "  Downloading numpy-2.0.2-cp39-cp39-macosx_11_0_arm64.whl.metadata (60 kB)\n",
      "Collecting opencv-python>=4.1.1 (from -r requirements.txt (line 6))\n",
      "  Using cached opencv_python-4.11.0.86-cp37-abi3-macosx_13_0_arm64.whl.metadata (20 kB)\n",
      "Collecting Pillow>=7.1.2 (from -r requirements.txt (line 7))\n",
      "  Downloading pillow-11.2.1-cp39-cp39-macosx_11_0_arm64.whl.metadata (8.9 kB)\n",
      "Collecting PyYAML>=5.3.1 (from -r requirements.txt (line 8))\n",
      "  Downloading PyYAML-6.0.2-cp39-cp39-macosx_11_0_arm64.whl.metadata (2.1 kB)\n",
      "Collecting requests>=2.23.0 (from -r requirements.txt (line 9))\n",
      "  Using cached requests-2.32.4-py3-none-any.whl.metadata (4.9 kB)\n",
      "Collecting scipy>=1.4.1 (from -r requirements.txt (line 10))\n",
      "  Downloading scipy-1.13.1-cp39-cp39-macosx_12_0_arm64.whl.metadata (60 kB)\n",
      "Collecting torch>=1.7.0 (from -r requirements.txt (line 11))\n",
      "  Downloading torch-2.7.1-cp39-none-macosx_11_0_arm64.whl.metadata (29 kB)\n",
      "Collecting torchvision>=0.8.1 (from -r requirements.txt (line 12))\n",
      "  Downloading torchvision-0.22.1-cp39-cp39-macosx_11_0_arm64.whl.metadata (6.1 kB)\n",
      "Collecting tqdm>=4.41.0 (from -r requirements.txt (line 13))\n",
      "  Using cached tqdm-4.67.1-py3-none-any.whl.metadata (57 kB)\n",
      "Collecting tensorboard>=2.4.1 (from -r requirements.txt (line 16))\n",
      "  Downloading tensorboard-2.19.0-py3-none-any.whl.metadata (1.8 kB)\n",
      "Collecting pandas>=1.1.4 (from -r requirements.txt (line 20))\n",
      "  Downloading pandas-2.3.0-cp39-cp39-macosx_11_0_arm64.whl.metadata (91 kB)\n",
      "Collecting seaborn>=0.11.0 (from -r requirements.txt (line 21))\n",
      "  Using cached seaborn-0.13.2-py3-none-any.whl.metadata (5.4 kB)\n",
      "Collecting thop (from -r requirements.txt (line 37))\n",
      "  Using cached thop-0.1.1.post2209072238-py3-none-any.whl.metadata (2.7 kB)\n",
      "Collecting contourpy>=1.0.1 (from matplotlib>=3.2.2->-r requirements.txt (line 4))\n",
      "  Downloading contourpy-1.3.0-cp39-cp39-macosx_11_0_arm64.whl.metadata (5.4 kB)\n",
      "Collecting cycler>=0.10 (from matplotlib>=3.2.2->-r requirements.txt (line 4))\n",
      "  Using cached cycler-0.12.1-py3-none-any.whl.metadata (3.8 kB)\n",
      "Collecting fonttools>=4.22.0 (from matplotlib>=3.2.2->-r requirements.txt (line 4))\n",
      "  Downloading fonttools-4.58.4-cp39-cp39-macosx_10_9_universal2.whl.metadata (106 kB)\n",
      "Collecting kiwisolver>=1.3.1 (from matplotlib>=3.2.2->-r requirements.txt (line 4))\n",
      "  Downloading kiwisolver-1.4.7-cp39-cp39-macosx_11_0_arm64.whl.metadata (6.3 kB)\n",
      "Requirement already satisfied: packaging>=20.0 in /Users/laraschwarz/miniconda3/envs/deepsort/lib/python3.9/site-packages (from matplotlib>=3.2.2->-r requirements.txt (line 4)) (25.0)\n",
      "Collecting pyparsing>=2.3.1 (from matplotlib>=3.2.2->-r requirements.txt (line 4))\n",
      "  Using cached pyparsing-3.2.3-py3-none-any.whl.metadata (5.0 kB)\n",
      "Requirement already satisfied: python-dateutil>=2.7 in /Users/laraschwarz/miniconda3/envs/deepsort/lib/python3.9/site-packages (from matplotlib>=3.2.2->-r requirements.txt (line 4)) (2.9.0.post0)\n",
      "Collecting importlib-resources>=3.2.0 (from matplotlib>=3.2.2->-r requirements.txt (line 4))\n",
      "  Downloading importlib_resources-6.5.2-py3-none-any.whl.metadata (3.9 kB)\n",
      "Collecting charset_normalizer<4,>=2 (from requests>=2.23.0->-r requirements.txt (line 9))\n",
      "  Downloading charset_normalizer-3.4.2-cp39-cp39-macosx_10_9_universal2.whl.metadata (35 kB)\n",
      "Collecting idna<4,>=2.5 (from requests>=2.23.0->-r requirements.txt (line 9))\n",
      "  Using cached idna-3.10-py3-none-any.whl.metadata (10 kB)\n",
      "Collecting urllib3<3,>=1.21.1 (from requests>=2.23.0->-r requirements.txt (line 9))\n",
      "  Using cached urllib3-2.4.0-py3-none-any.whl.metadata (6.5 kB)\n",
      "Collecting certifi>=2017.4.17 (from requests>=2.23.0->-r requirements.txt (line 9))\n",
      "  Using cached certifi-2025.4.26-py3-none-any.whl.metadata (2.5 kB)\n",
      "Collecting filelock (from torch>=1.7.0->-r requirements.txt (line 11))\n",
      "  Using cached filelock-3.18.0-py3-none-any.whl.metadata (2.9 kB)\n",
      "Requirement already satisfied: typing-extensions>=4.10.0 in /Users/laraschwarz/miniconda3/envs/deepsort/lib/python3.9/site-packages (from torch>=1.7.0->-r requirements.txt (line 11)) (4.14.0)\n",
      "Collecting sympy>=1.13.3 (from torch>=1.7.0->-r requirements.txt (line 11))\n",
      "  Using cached sympy-1.14.0-py3-none-any.whl.metadata (12 kB)\n",
      "Collecting networkx (from torch>=1.7.0->-r requirements.txt (line 11))\n",
      "  Downloading networkx-3.2.1-py3-none-any.whl.metadata (5.2 kB)\n",
      "Collecting jinja2 (from torch>=1.7.0->-r requirements.txt (line 11))\n",
      "  Using cached jinja2-3.1.6-py3-none-any.whl.metadata (2.9 kB)\n",
      "Collecting fsspec (from torch>=1.7.0->-r requirements.txt (line 11))\n",
      "  Using cached fsspec-2025.5.1-py3-none-any.whl.metadata (11 kB)\n",
      "Collecting absl-py>=0.4 (from tensorboard>=2.4.1->-r requirements.txt (line 16))\n",
      "  Downloading absl_py-2.3.0-py3-none-any.whl.metadata (2.4 kB)\n",
      "Collecting grpcio>=1.48.2 (from tensorboard>=2.4.1->-r requirements.txt (line 16))\n",
      "  Downloading grpcio-1.73.0-cp39-cp39-macosx_11_0_universal2.whl.metadata (3.8 kB)\n",
      "Collecting markdown>=2.6.8 (from tensorboard>=2.4.1->-r requirements.txt (line 16))\n",
      "  Downloading markdown-3.8-py3-none-any.whl.metadata (5.1 kB)\n",
      "Collecting protobuf!=4.24.0,>=3.19.6 (from tensorboard>=2.4.1->-r requirements.txt (line 16))\n",
      "  Downloading protobuf-6.31.1-cp39-abi3-macosx_10_9_universal2.whl.metadata (593 bytes)\n",
      "Requirement already satisfied: setuptools>=41.0.0 in /Users/laraschwarz/miniconda3/envs/deepsort/lib/python3.9/site-packages (from tensorboard>=2.4.1->-r requirements.txt (line 16)) (78.1.1)\n",
      "Requirement already satisfied: six>1.9 in /Users/laraschwarz/miniconda3/envs/deepsort/lib/python3.9/site-packages (from tensorboard>=2.4.1->-r requirements.txt (line 16)) (1.17.0)\n",
      "Collecting tensorboard-data-server<0.8.0,>=0.7.0 (from tensorboard>=2.4.1->-r requirements.txt (line 16))\n",
      "  Downloading tensorboard_data_server-0.7.2-py3-none-any.whl.metadata (1.1 kB)\n",
      "Collecting werkzeug>=1.0.1 (from tensorboard>=2.4.1->-r requirements.txt (line 16))\n",
      "  Downloading werkzeug-3.1.3-py3-none-any.whl.metadata (3.7 kB)\n",
      "Collecting pytz>=2020.1 (from pandas>=1.1.4->-r requirements.txt (line 20))\n",
      "  Using cached pytz-2025.2-py2.py3-none-any.whl.metadata (22 kB)\n",
      "Collecting tzdata>=2022.7 (from pandas>=1.1.4->-r requirements.txt (line 20))\n",
      "  Using cached tzdata-2025.2-py2.py3-none-any.whl.metadata (1.4 kB)\n",
      "Requirement already satisfied: zipp>=3.1.0 in /Users/laraschwarz/miniconda3/envs/deepsort/lib/python3.9/site-packages (from importlib-resources>=3.2.0->matplotlib>=3.2.2->-r requirements.txt (line 4)) (3.23.0)\n",
      "Requirement already satisfied: importlib-metadata>=4.4 in /Users/laraschwarz/miniconda3/envs/deepsort/lib/python3.9/site-packages (from markdown>=2.6.8->tensorboard>=2.4.1->-r requirements.txt (line 16)) (8.7.0)\n",
      "Collecting mpmath<1.4,>=1.1.0 (from sympy>=1.13.3->torch>=1.7.0->-r requirements.txt (line 11))\n",
      "  Using cached mpmath-1.3.0-py3-none-any.whl.metadata (8.6 kB)\n",
      "Collecting MarkupSafe>=2.1.1 (from werkzeug>=1.0.1->tensorboard>=2.4.1->-r requirements.txt (line 16))\n",
      "  Downloading MarkupSafe-3.0.2-cp39-cp39-macosx_11_0_arm64.whl.metadata (4.0 kB)\n",
      "Downloading matplotlib-3.9.4-cp39-cp39-macosx_11_0_arm64.whl (7.8 MB)\n",
      "\u001b[2K   \u001b[90m━━━━━━━━━━━━━━━━━━━━━━━━━━━━━━━━━━━━━━━━\u001b[0m \u001b[32m7.8/7.8 MB\u001b[0m \u001b[31m8.3 MB/s\u001b[0m eta \u001b[36m0:00:00\u001b[0ma \u001b[36m0:00:01\u001b[0m\n",
      "\u001b[?25hDownloading numpy-2.0.2-cp39-cp39-macosx_11_0_arm64.whl (13.7 MB)\n",
      "\u001b[2K   \u001b[90m━━━━━━━━━━━━━━━━━━━━━━━━━━━━━━━━━━━━━━━━\u001b[0m \u001b[32m13.7/13.7 MB\u001b[0m \u001b[31m7.0 MB/s\u001b[0m eta \u001b[36m0:00:00\u001b[0m00:01\u001b[0m00:01\u001b[0m\n",
      "\u001b[?25hUsing cached opencv_python-4.11.0.86-cp37-abi3-macosx_13_0_arm64.whl (37.3 MB)\n",
      "Downloading pillow-11.2.1-cp39-cp39-macosx_11_0_arm64.whl (3.0 MB)\n",
      "\u001b[2K   \u001b[90m━━━━━━━━━━━━━━━━━━━━━━━━━━━━━━━━━━━━━━━━\u001b[0m \u001b[32m3.0/3.0 MB\u001b[0m \u001b[31m9.9 MB/s\u001b[0m eta \u001b[36m0:00:00\u001b[0mta \u001b[36m0:00:01\u001b[0m\n",
      "\u001b[?25hDownloading PyYAML-6.0.2-cp39-cp39-macosx_11_0_arm64.whl (172 kB)\n",
      "Using cached requests-2.32.4-py3-none-any.whl (64 kB)\n",
      "Downloading charset_normalizer-3.4.2-cp39-cp39-macosx_10_9_universal2.whl (201 kB)\n",
      "Using cached idna-3.10-py3-none-any.whl (70 kB)\n",
      "Using cached urllib3-2.4.0-py3-none-any.whl (128 kB)\n",
      "Downloading scipy-1.13.1-cp39-cp39-macosx_12_0_arm64.whl (30.3 MB)\n",
      "\u001b[2K   \u001b[90m━━━━━━━━━━━━━━━━━━━━━━━━━━━━━━━━━━━━━━━━\u001b[0m \u001b[32m30.3/30.3 MB\u001b[0m \u001b[31m10.6 MB/s\u001b[0m eta \u001b[36m0:00:00\u001b[0ma \u001b[36m0:00:01\u001b[0m\n",
      "\u001b[?25hDownloading torch-2.7.1-cp39-none-macosx_11_0_arm64.whl (68.6 MB)\n",
      "\u001b[2K   \u001b[90m━━━━━━━━━━━━━━━━━━━━━━━━━━━━━━━━━━━━━━━━\u001b[0m \u001b[32m68.6/68.6 MB\u001b[0m \u001b[31m9.5 MB/s\u001b[0m eta \u001b[36m0:00:00\u001b[0m00:01\u001b[0m00:01\u001b[0mm\n",
      "\u001b[?25hDownloading torchvision-0.22.1-cp39-cp39-macosx_11_0_arm64.whl (1.9 MB)\n",
      "\u001b[2K   \u001b[90m━━━━━━━━━━━━━━━━━━━━━━━━━━━━━━━━━━━━━━━━\u001b[0m \u001b[32m1.9/1.9 MB\u001b[0m \u001b[31m8.5 MB/s\u001b[0m eta \u001b[36m0:00:00\u001b[0ma \u001b[36m0:00:01\u001b[0m\n",
      "\u001b[?25hUsing cached tqdm-4.67.1-py3-none-any.whl (78 kB)\n",
      "Downloading tensorboard-2.19.0-py3-none-any.whl (5.5 MB)\n",
      "\u001b[2K   \u001b[90m━━━━━━━━━━━━━━━━━━━━━━━━━━━━━━━━━━━━━━━━\u001b[0m \u001b[32m5.5/5.5 MB\u001b[0m \u001b[31m9.7 MB/s\u001b[0m eta \u001b[36m0:00:00\u001b[0mta \u001b[36m0:00:01\u001b[0m\n",
      "\u001b[?25hDownloading tensorboard_data_server-0.7.2-py3-none-any.whl (2.4 kB)\n",
      "Downloading pandas-2.3.0-cp39-cp39-macosx_11_0_arm64.whl (10.8 MB)\n",
      "\u001b[2K   \u001b[90m━━━━━━━━━━━━━━━━━━━━━━━━━━━━━━━━━━━━━━━━\u001b[0m \u001b[32m10.8/10.8 MB\u001b[0m \u001b[31m10.1 MB/s\u001b[0m eta \u001b[36m0:00:00\u001b[0m00:01\u001b[0m0:01\u001b[0m\n",
      "\u001b[?25hUsing cached seaborn-0.13.2-py3-none-any.whl (294 kB)\n",
      "Using cached thop-0.1.1.post2209072238-py3-none-any.whl (15 kB)\n",
      "Downloading absl_py-2.3.0-py3-none-any.whl (135 kB)\n",
      "Using cached certifi-2025.4.26-py3-none-any.whl (159 kB)\n",
      "Downloading contourpy-1.3.0-cp39-cp39-macosx_11_0_arm64.whl (249 kB)\n",
      "Using cached cycler-0.12.1-py3-none-any.whl (8.3 kB)\n",
      "Downloading fonttools-4.58.4-cp39-cp39-macosx_10_9_universal2.whl (2.8 MB)\n",
      "\u001b[2K   \u001b[90m━━━━━━━━━━━━━━━━━━━━━━━━━━━━━━━━━━━━━━━━\u001b[0m \u001b[32m2.8/2.8 MB\u001b[0m \u001b[31m6.9 MB/s\u001b[0m eta \u001b[36m0:00:00\u001b[0ma \u001b[36m0:00:01\u001b[0m\n",
      "\u001b[?25hDownloading grpcio-1.73.0-cp39-cp39-macosx_11_0_universal2.whl (10.6 MB)\n",
      "\u001b[2K   \u001b[90m━━━━━━━━━━━━━━━━━━━━━━━━━━━━━━━━━━━━━━━━\u001b[0m \u001b[32m10.6/10.6 MB\u001b[0m \u001b[31m9.8 MB/s\u001b[0m eta \u001b[36m0:00:00\u001b[0ma \u001b[36m0:00:01\u001b[0m\n",
      "\u001b[?25hDownloading importlib_resources-6.5.2-py3-none-any.whl (37 kB)\n",
      "Downloading kiwisolver-1.4.7-cp39-cp39-macosx_11_0_arm64.whl (64 kB)\n",
      "Downloading markdown-3.8-py3-none-any.whl (106 kB)\n",
      "Downloading protobuf-6.31.1-cp39-abi3-macosx_10_9_universal2.whl (425 kB)\n",
      "Using cached pyparsing-3.2.3-py3-none-any.whl (111 kB)\n",
      "Using cached pytz-2025.2-py2.py3-none-any.whl (509 kB)\n",
      "Using cached sympy-1.14.0-py3-none-any.whl (6.3 MB)\n",
      "Using cached mpmath-1.3.0-py3-none-any.whl (536 kB)\n",
      "Using cached tzdata-2025.2-py2.py3-none-any.whl (347 kB)\n",
      "Downloading werkzeug-3.1.3-py3-none-any.whl (224 kB)\n",
      "Downloading MarkupSafe-3.0.2-cp39-cp39-macosx_11_0_arm64.whl (12 kB)\n",
      "Using cached filelock-3.18.0-py3-none-any.whl (16 kB)\n",
      "Using cached fsspec-2025.5.1-py3-none-any.whl (199 kB)\n",
      "Using cached jinja2-3.1.6-py3-none-any.whl (134 kB)\n",
      "Downloading networkx-3.2.1-py3-none-any.whl (1.6 MB)\n",
      "\u001b[2K   \u001b[90m━━━━━━━━━━━━━━━━━━━━━━━━━━━━━━━━━━━━━━━━\u001b[0m \u001b[32m1.6/1.6 MB\u001b[0m \u001b[31m16.1 MB/s\u001b[0m eta \u001b[36m0:00:00\u001b[0m\n",
      "\u001b[?25hInstalling collected packages: pytz, mpmath, urllib3, tzdata, tqdm, tensorboard-data-server, sympy, PyYAML, pyparsing, protobuf, Pillow, numpy, networkx, MarkupSafe, kiwisolver, importlib-resources, idna, grpcio, fsspec, fonttools, filelock, cycler, charset_normalizer, certifi, absl-py, werkzeug, scipy, requests, pandas, opencv-python, markdown, jinja2, contourpy, torch, tensorboard, matplotlib, torchvision, thop, seaborn\n",
      "\u001b[2K   \u001b[90m━━━━━━━━━━━━━━━━━━━━━━━━━━━━━━━━━━━━━━━━\u001b[0m \u001b[32m39/39\u001b[0m [seaborn]8/39\u001b[0m [seaborn]ion]n]urces]\n",
      "\u001b[1A\u001b[2KSuccessfully installed MarkupSafe-3.0.2 Pillow-11.2.1 PyYAML-6.0.2 absl-py-2.3.0 certifi-2025.4.26 charset_normalizer-3.4.2 contourpy-1.3.0 cycler-0.12.1 filelock-3.18.0 fonttools-4.58.4 fsspec-2025.5.1 grpcio-1.73.0 idna-3.10 importlib-resources-6.5.2 jinja2-3.1.6 kiwisolver-1.4.7 markdown-3.8 matplotlib-3.9.4 mpmath-1.3.0 networkx-3.2.1 numpy-2.0.2 opencv-python-4.11.0.86 pandas-2.3.0 protobuf-6.31.1 pyparsing-3.2.3 pytz-2025.2 requests-2.32.4 scipy-1.13.1 seaborn-0.13.2 sympy-1.14.0 tensorboard-2.19.0 tensorboard-data-server-0.7.2 thop-0.1.1.post2209072238 torch-2.7.1 torchvision-0.22.1 tqdm-4.67.1 tzdata-2025.2 urllib3-2.4.0 werkzeug-3.1.3\n"
     ]
    }
   ],
   "source": [
    "!pip install -r requirements.txt"
   ]
  },
  {
   "cell_type": "markdown",
   "metadata": {
    "id": "yFAPLXKwMc2V"
   },
   "source": [
    "# Integrating DeepSORT"
   ]
  },
  {
   "cell_type": "markdown",
   "metadata": {
    "id": "21myZwdEFcS8"
   },
   "source": [
    "Referencing the detector code from `yolov5/detect.py` and adding DeepSORT code to it into a new file `detect_track.py`"
   ]
  },
  {
   "cell_type": "code",
   "execution_count": 4,
   "metadata": {
    "id": "PsJUvcQ7FK2Z"
   },
   "outputs": [
    {
     "name": "stdout",
     "output_type": "stream",
     "text": [
      "Overwriting detect_track.py\n"
     ]
    }
   ],
   "source": [
    "%%writefile detect_track.py\n",
    "# YOLOv5 🚀 by Ultralytics, GPL-3.0 license\n",
    "\"\"\"\n",
    "Run inference on images, videos, directories, streams, etc.\n",
    "\n",
    "Usage - sources:\n",
    "    $ python path/to/detect.py --weights yolov5s.pt --source 0              # webcam\n",
    "                                                             img.jpg        # image\n",
    "                                                             vid.mp4        # video\n",
    "                                                             path/          # directory\n",
    "                                                             path/*.jpg     # glob\n",
    "                                                             'https://youtu.be/Zgi9g1ksQHc'  # YouTube\n",
    "                                                             'rtsp://example.com/media.mp4'  # RTSP, RTMP, HTTP stream\n",
    "\"\"\"\n",
    "\n",
    "import argparse\n",
    "import os\n",
    "import sys\n",
    "from pathlib import Path\n",
    "\n",
    "import torch\n",
    "import torch.backends.cudnn as cudnn\n",
    "\n",
    "FILE = Path(__file__).resolve()\n",
    "ROOT = FILE.parents[0]  # YOLOv5 root directory\n",
    "if str(ROOT) not in sys.path:\n",
    "    sys.path.append(str(ROOT))  # add ROOT to PATH\n",
    "ROOT = Path(os.path.relpath(ROOT, Path.cwd()))  # relative\n",
    "\n",
    "# DeepSORT -> Importing DeepSORT.\n",
    "from deep_sort.application_util import preprocessing\n",
    "from deep_sort.deep_sort import nn_matching\n",
    "from deep_sort.deep_sort.detection import Detection\n",
    "from deep_sort.deep_sort.tracker import Tracker\n",
    "from deep_sort.tools import generate_detections as gdet\n",
    "\n",
    "\n",
    "from models.common import DetectMultiBackend\n",
    "from utils.dataloaders import IMG_FORMATS, VID_FORMATS, LoadImages, LoadStreams\n",
    "from utils.general import (LOGGER, check_file, check_img_size, check_imshow, check_requirements, colorstr, cv2,\n",
    "                           increment_path, non_max_suppression, print_args, scale_coords, strip_optimizer, xyxy2xywh)\n",
    "from utils.plots import Annotator, colors, save_one_box\n",
    "from utils.torch_utils import select_device, time_sync\n",
    "\n",
    "\n",
    "@torch.no_grad()\n",
    "def run(\n",
    "        weights=ROOT / 'yolov5s.pt',  # model.pt path(s)\n",
    "        source=ROOT / 'data/images',  # file/dir/URL/glob, 0 for webcam\n",
    "        data=ROOT / 'data/coco128.yaml',  # dataset.yaml path\n",
    "        imgsz=(640, 640),  # inference size (height, width)\n",
    "        conf_thres=0.25,  # confidence threshold\n",
    "        iou_thres=0.45,  # NMS IOU threshold\n",
    "        max_det=1000,  # maximum detections per image\n",
    "        device='',  # cuda device, i.e. 0 or 0,1,2,3 or cpu\n",
    "        view_img=False,  # show results\n",
    "        save_txt=False,  # save results to *.txt\n",
    "        save_conf=False,  # save confidences in --save-txt labels\n",
    "        save_crop=False,  # save cropped prediction boxes\n",
    "        nosave=False,  # do not save images/videos\n",
    "        classes=None,  # filter by class: --class 0, or --class 0 2 3\n",
    "        agnostic_nms=False,  # class-agnostic NMS\n",
    "        augment=False,  # augmented inference\n",
    "        visualize=False,  # visualize features\n",
    "        update=False,  # update all models\n",
    "        project=ROOT / 'runs/detect',  # save results to project/name\n",
    "        name='exp',  # save results to project/name\n",
    "        exist_ok=False,  # existing project/name ok, do not increment\n",
    "        line_thickness=3,  # bounding box thickness (pixels)\n",
    "        hide_labels=False,  # hide labels\n",
    "        hide_conf=False,  # hide confidences\n",
    "        half=False,  # use FP16 half-precision inference\n",
    "        dnn=False,  # use OpenCV DNN for ONNX inference\n",
    "):\n",
    "    source = str(source)\n",
    "    save_img = not nosave and not source.endswith('.txt')  # save inference images\n",
    "    is_file = Path(source).suffix[1:] in (IMG_FORMATS + VID_FORMATS)\n",
    "    is_url = source.lower().startswith(('rtsp://', 'rtmp://', 'http://', 'https://'))\n",
    "    webcam = source.isnumeric() or source.endswith('.txt') or (is_url and not is_file)\n",
    "    if is_url and is_file:\n",
    "        source = check_file(source)  # download\n",
    "\n",
    "    # DeepSORT -> Intializing tracker.\n",
    "    max_cosine_distance = 0.4\n",
    "    nn_budget = None\n",
    "    model_filename = './model_data/mars-small128.pb'\n",
    "    encoder = gdet.create_box_encoder(model_filename, batch_size=1)\n",
    "    metric = nn_matching.NearestNeighborDistanceMetric(\"cosine\", max_cosine_distance, nn_budget)\n",
    "    tracker = Tracker(metric)\n",
    "    \n",
    "    # Directories\n",
    "    if not os.path.isdir('./runs/'):\n",
    "      os.mkdir('./runs/')\n",
    "    save_dir = os.path.join(os.getcwd(), \"runs\")\n",
    "    print(save_dir)\n",
    "    '''save_dir = increment_path(Path(project) / name, exist_ok=exist_ok)  # increment run\n",
    "    (save_dir / 'labels' if save_txt else save_dir).mkdir(parents=True, exist_ok=True)  # make dir'''\n",
    "\n",
    "    # Load model\n",
    "    device = select_device(device)\n",
    "    model = DetectMultiBackend(weights, device=device, dnn=dnn, data=data, fp16=half)\n",
    "    stride, names, pt = model.stride, model.names, model.pt\n",
    "    imgsz = check_img_size(imgsz, s=stride)  # check image size\n",
    "\n",
    "    # Dataloader\n",
    "    if webcam:\n",
    "        view_img = check_imshow()\n",
    "        cudnn.benchmark = True  # set True to speed up constant image size inference\n",
    "        dataset = LoadStreams(source, img_size=imgsz, stride=stride, auto=pt)\n",
    "        bs = len(dataset)  # batch_size\n",
    "    else:\n",
    "        dataset = LoadImages(source, img_size=imgsz, stride=stride, auto=pt)\n",
    "        bs = 1  # batch_size\n",
    "    vid_path, vid_writer = [None] * bs, [None] * bs\n",
    "\n",
    "    # Run inference\n",
    "    model.warmup(imgsz=(1 if pt else bs, 3, *imgsz))  # warmup\n",
    "    dt, seen = [0.0, 0.0, 0.0], 0\n",
    "    frame_idx=0\n",
    "    for path, im, im0s, vid_cap, s in dataset:\n",
    "        t1 =  time_sync()\n",
    "        im = torch.from_numpy(im).to(device)\n",
    "        im = im.half() if model.fp16 else im.float()  # uint8 to fp16/32\n",
    "        im /= 255  # 0 - 255 to 0.0 - 1.0\n",
    "        if len(im.shape) == 3:\n",
    "            im = im[None]  # expand for batch dim\n",
    "        t2 = time_sync()\n",
    "        dt[0] += t2 - t1\n",
    "\n",
    "        # Inference\n",
    "        visualize = increment_path(save_dir / Path(path).stem, mkdir=True) if visualize else False\n",
    "        pred = model(im, augment=augment, visualize=visualize)\n",
    "        t3 = time_sync()\n",
    "        dt[1] += t3 - t2\n",
    "\n",
    "        # NMS\n",
    "        pred = non_max_suppression(pred, conf_thres, iou_thres, classes, agnostic_nms, max_det=max_det)\n",
    "        dt[2] += time_sync() - t3\n",
    "\n",
    "        # Second-stage classifier (optional)\n",
    "        # pred = utils.general.apply_classifier(pred, classifier_model, im, im0s)\n",
    "\n",
    "        frame_idx=frame_idx+1\n",
    "        # Process predictions\n",
    "        for i, det in enumerate(pred):  # per image\n",
    "            seen += 1\n",
    "            if webcam:  # batch_size >= 1\n",
    "                p, im0, frame = path[i], im0s[i].copy(), dataset.count\n",
    "                s += f'{i}: '\n",
    "            else:\n",
    "                p, im0, frame = path, im0s.copy(), getattr(dataset, 'frame', 0)\n",
    "\n",
    "            p = Path(p)  # to Path\n",
    "            print(\"stem\", p.stem)\n",
    "            print(\"dir\", save_dir)\n",
    "            save_path = os.path.join(save_dir, p.name)  # im.jpg\n",
    "            txt_path = os.path.join(save_dir , p.stem) # im.txt\n",
    "            s += '%gx%g ' % im.shape[2:]  # print string\n",
    "            gn = torch.tensor(im0.shape)[[1, 0, 1, 0]]  # normalization gain whwh\n",
    "            imc = im0.copy() if save_crop else im0  # for save_crop\n",
    "            annotator = Annotator(im0, line_width=line_thickness, example=str(names))\n",
    "\n",
    "            if len(det):\n",
    "                # Rescale boxes from img_size to im0 size\n",
    "                det[:, :4] = scale_coords(im.shape[2:], det[:, :4], im0.shape).round()\n",
    "\n",
    "                # Print results\n",
    "                for c in det[:, -1].unique():\n",
    "                    n = (det[:, -1] == c).sum()  # detections per class\n",
    "                    s += f\"{n} {names[int(c)]}{'s' * (n > 1)}, \"  # add to string\n",
    "\n",
    "                # DeepSORT -> Extracting Bounding boxes and its confidence scores.\n",
    "                bboxes = []\n",
    "                scores = []\n",
    "                for *boxes, conf, cls in det:\n",
    "                  bbox_left = min([boxes[0].item(), boxes[2].item()])\n",
    "                  bbox_top = min([boxes[1].item(), boxes[3].item()])\n",
    "                  bbox_w = abs(boxes[0].item() - boxes[2].item())\n",
    "                  bbox_h = abs(boxes[1].item() - boxes[3].item())\n",
    "                  box = [bbox_left, bbox_top, bbox_w, bbox_h]\n",
    "                  bboxes.append(box)\n",
    "                  scores.append(conf.item())\n",
    "                \n",
    "                # DeepSORT -> Getting appearence features of the object.\n",
    "                features = encoder(im0, bboxes)\n",
    "                # DeepSORT -> Storing all the required info in a list.\n",
    "                detections = [Detection(bbox, score, feature) for bbox, score, feature in zip(bboxes, scores, features)]\n",
    "\n",
    "                # DeepSORT -> Predicting Tracks. \n",
    "                tracker.predict()\n",
    "                tracker.update(detections)\n",
    "                #track_time = time.time() - prev_time\n",
    "\n",
    "                # DeepSORT -> Plotting the tracks.\n",
    "                for track in tracker.tracks:\n",
    "                  if not track.is_confirmed() or track.time_since_update > 1:\n",
    "                      continue\n",
    "\n",
    "                  # DeepSORT -> Changing track bbox to top left, bottom right coordinates\n",
    "                  bbox = list(track.to_tlbr())\n",
    "\n",
    "                  # DeepSORT -> Writing Track bounding box and ID on the frame using OpenCV.\n",
    "                  txt = 'id:' + str(track.track_id)\n",
    "                  (label_width,label_height), baseline = cv2.getTextSize(txt , cv2.FONT_HERSHEY_SIMPLEX,1,1)\n",
    "                  top_left = tuple(map(int,[int(bbox[0]),int(bbox[1])-(label_height+baseline)]))\n",
    "                  top_right = tuple(map(int,[int(bbox[0])+label_width,int(bbox[1])]))\n",
    "                  org = tuple(map(int,[int(bbox[0]),int(bbox[1])-baseline]))\n",
    "\n",
    "                  cv2.rectangle(im0, (int(bbox[0]), int(bbox[1])), (int(bbox[2]), int(bbox[3])), (255,0,0), 1)\n",
    "                  cv2.rectangle(im0, top_left, top_right, (255,0,0), -1)\n",
    "                  cv2.putText(im0, txt, org, cv2.FONT_HERSHEY_SIMPLEX, 1, (255,255,255), 1)\n",
    "\n",
    "                  # DeepSORT -> Saving Track predictions into a text file.\n",
    "                  save_format = '{frame},{id},{x1},{y1},{w},{h},{x},{y},{z}\\n'\n",
    "                  print(\"txt: \", txt_path, '.txt')\n",
    "                  with open(txt_path + '.txt', 'a') as f:\n",
    "                    line = save_format.format(frame=frame_idx, id=track.track_id, x1=int(bbox[0]), y1=int(bbox[1]), w=int(bbox[2]- bbox[0]), h=int(bbox[3]-bbox[1]), x = -1, y = -1, z = -1)\n",
    "                    f.write(line) \n",
    "\n",
    "            # Stream results\n",
    "            im0 = annotator.result()\n",
    "\n",
    "            # Save results (image with detections and tracks)\n",
    "            if save_img:\n",
    "                if dataset.mode == 'image':\n",
    "                    cv2.imwrite(save_path, im0)\n",
    "                else:  # 'video' or 'stream'\n",
    "                    if vid_path[i] != save_path:  # new video\n",
    "                        vid_path[i] = save_path\n",
    "                        if isinstance(vid_writer[i], cv2.VideoWriter):\n",
    "                            vid_writer[i].release()  # release previous video writer\n",
    "                        if vid_cap:  # video\n",
    "                            fps = vid_cap.get(cv2.CAP_PROP_FPS)\n",
    "                            w = int(vid_cap.get(cv2.CAP_PROP_FRAME_WIDTH))\n",
    "                            h = int(vid_cap.get(cv2.CAP_PROP_FRAME_HEIGHT))\n",
    "                        else:  # stream\n",
    "                            fps, w, h = 30, im0.shape[1], im0.shape[0]\n",
    "                        save_path = str(Path(save_path).with_suffix('.mp4'))  # force *.mp4 suffix on results videos\n",
    "                        vid_writer[i] = cv2.VideoWriter(save_path, cv2.VideoWriter_fourcc(*'mp4v'), fps, (w, h))\n",
    "                    vid_writer[i].write(im0)\n",
    "\n",
    "        # Print time (inference-only)\n",
    "        LOGGER.info(f'{s}Done. ({t3 - t2:.3f}s)')\n",
    "\n",
    "    # Print results\n",
    "    t = tuple(x / seen * 1E3 for x in dt)  # speeds per image\n",
    "    LOGGER.info(f'Speed: %.1fms pre-process, %.1fms inference, %.1fms NMS per image at shape {(1, 3, *imgsz)}' % t)\n",
    "    if update:\n",
    "        strip_optimizer(weights)  # update model (to fix SourceChangeWarning)\n",
    "\n",
    "\n",
    "def parse_opt():\n",
    "    parser = argparse.ArgumentParser()\n",
    "    parser.add_argument('--weights', nargs='+', type=str, default=ROOT / 'yolov5s.pt', help='model path(s)')\n",
    "    parser.add_argument('--source', type=str, default=ROOT / 'data/images', help='file/dir/URL/glob, 0 for webcam')\n",
    "    parser.add_argument('--data', type=str, default=ROOT / 'data/coco128.yaml', help='(optional) dataset.yaml path')\n",
    "    parser.add_argument('--imgsz', '--img', '--img-size', nargs='+', type=int, default=[640], help='inference size h,w')\n",
    "    parser.add_argument('--conf-thres', type=float, default=0.25, help='confidence threshold')\n",
    "    parser.add_argument('--iou-thres', type=float, default=0.45, help='NMS IoU threshold')\n",
    "    parser.add_argument('--max-det', type=int, default=1000, help='maximum detections per image')\n",
    "    parser.add_argument('--device', default='', help='cuda device, i.e. 0 or 0,1,2,3 or cpu')\n",
    "    parser.add_argument('--view-img', action='store_true', help='show results')\n",
    "    parser.add_argument('--save-txt', action='store_true', help='save results to *.txt')\n",
    "    parser.add_argument('--save-conf', action='store_true', help='save confidences in --save-txt labels')\n",
    "    parser.add_argument('--save-crop', action='store_true', help='save cropped prediction boxes')\n",
    "    parser.add_argument('--nosave', action='store_true', help='do not save images/videos')\n",
    "    parser.add_argument('--classes', nargs='+', type=int, help='filter by class: --classes 0, or --classes 0 2 3')\n",
    "    parser.add_argument('--agnostic-nms', action='store_true', help='class-agnostic NMS')\n",
    "    parser.add_argument('--augment', action='store_true', help='augmented inference')\n",
    "    parser.add_argument('--visualize', action='store_true', help='visualize features')\n",
    "    parser.add_argument('--update', action='store_true', help='update all models')\n",
    "    parser.add_argument('--project', default=ROOT / 'runs/detect', help='save results to project/name')\n",
    "    parser.add_argument('--name', default='exp', help='save results to project/name')\n",
    "    parser.add_argument('--exist-ok', action='store_true', help='existing project/name ok, do not increment')\n",
    "    parser.add_argument('--line-thickness', default=3, type=int, help='bounding box thickness (pixels)')\n",
    "    parser.add_argument('--hide-labels', default=False, action='store_true', help='hide labels')\n",
    "    parser.add_argument('--hide-conf', default=False, action='store_true', help='hide confidences')\n",
    "    parser.add_argument('--half', action='store_true', help='use FP16 half-precision inference')\n",
    "    parser.add_argument('--dnn', action='store_true', help='use OpenCV DNN for ONNX inference')\n",
    "    opt = parser.parse_args()\n",
    "    opt.imgsz *= 2 if len(opt.imgsz) == 1 else 1  # expand\n",
    "    print_args(vars(opt))\n",
    "    return opt\n",
    "\n",
    "def main(opt):\n",
    "    check_requirements(exclude=('tensorboard', 'thop'))\n",
    "    run(**vars(opt))\n",
    "\n",
    "if __name__ == \"__main__\":\n",
    "    opt = parse_opt()\n",
    "    main(opt)"
   ]
  },
  {
   "cell_type": "markdown",
   "metadata": {
    "id": "zZX2PFyTMunG"
   },
   "source": [
    "# Inference"
   ]
  },
  {
   "cell_type": "markdown",
   "metadata": {
    "id": "jcB3VrnJNRnY"
   },
   "source": [
    "Running DeepSORT on sports video.\n",
    "\n",
    "\n",
    "*   [Football video](https://drive.google.com/file/d/1RHjI-dtvrqGgnhIstB2d2ol-nTHvNUiE/view?usp=sharing)\n",
    "*   [Sprint race](https://drive.google.com/file/d/13z3Nbqc77lByNPU6gHJ_fOIxxFCUtC7J/view?usp=sharing)\n",
    "\n"
   ]
  },
  {
   "cell_type": "code",
   "execution_count": 14,
   "metadata": {
    "id": "0eUBsSE7wdhV"
   },
   "outputs": [
    {
     "name": "stdout",
     "output_type": "stream",
     "text": [
      "WARNING:tensorflow:From /Users/laraschwarz/miniconda3/envs/deepsort/lib/python3.9/site-packages/tensorflow/python/compat/v2_compat.py:98: disable_resource_variables (from tensorflow.python.ops.resource_variables_toggle) is deprecated and will be removed in a future version.\n",
      "Instructions for updating:\n",
      "non-resource variables are not supported in the long term\n",
      "/Users/laraschwarz/miniconda3/envs/deepsort/lib/python3.9/site-packages/torchvision/io/image.py:11: UserWarning: Failed to load image Python extension: dlopen(/Users/laraschwarz/miniconda3/envs/deepsort/lib/python3.9/site-packages/torchvision/image.so, 0x0006): Library not loaded: @rpath/libpng16.16.dylib\n",
      "  Referenced from: <5F6B6919-410D-397C-98F2-12C5934F9DBE> /Users/laraschwarz/miniconda3/envs/deepsort/lib/python3.9/site-packages/torchvision/image.so\n",
      "  Reason: tried: '/Users/malfet/miniforge3/envs/py_39_torch-1.10.2/lib/libpng16.16.dylib' (no such file), '/System/Volumes/Preboot/Cryptexes/OS/Users/malfet/miniforge3/envs/py_39_torch-1.10.2/lib/libpng16.16.dylib' (no such file), '/Users/malfet/miniforge3/envs/py_39_torch-1.10.2/lib/libpng16.16.dylib' (no such file), '/System/Volumes/Preboot/Cryptexes/OS/Users/malfet/miniforge3/envs/py_39_torch-1.10.2/lib/libpng16.16.dylib' (no such file), '/Users/malfet/miniforge3/envs/py_39_torch-1.10.2/lib/libpng16.16.dylib' (no such file), '/System/Volumes/Preboot/Cryptexes/OS/Users/malfet/miniforge3/envs/py_39_torch-1.10.2/lib/libpng16.16.dylib' (no such file), '/Users/malfet/miniforge3/envs/py_39_torch-1.10.2/lib/libpng16.16.dylib' (no such file), '/System/Volumes/Preboot/Cryptexes/OS/Users/malfet/miniforge3/envs/py_39_torch-1.10.2/lib/libpng16.16.dylib' (no such file), '/Users/laraschwarz/miniconda3/envs/deepsort/lib/python3.9/lib-dynload/../../libpng16.16.dylib' (no such file), '/Users/laraschwarz/miniconda3/envs/deepsort/bin/../lib/libpng16.16.dylib' (no such file), '/System/Volumes/Preboot/Cryptexes/OS@rpath/libpng16.16.dylib' (no such file), '/Users/malfet/miniforge3/envs/py_39_torch-1.10.2/lib/libpng16.16.dylib' (no such file), '/System/Volumes/Preboot/Cryptexes/OS/Users/malfet/miniforge3/envs/py_39_torch-1.10.2/lib/libpng16.16.dylib' (no such file), '/Users/malfet/miniforge3/envs/py_39_torch-1.10.2/lib/libpng16.16.dylib' (no such file), '/System/Volumes/Preboot/Cryptexes/OS/Users/malfet/miniforge3/envs/py_39_torch-1.10.2/lib/libpng16.16.dylib' (no such file), '/Users/malfet/miniforge3/envs/py_39_torch-1.10.2/lib/libpng16.16.dylib' (no such file), '/System/Volumes/Preboot/Cryptexes/OS/Users/malfet/miniforge3/envs/py_39_torch-1.10.2/lib/libpng16.16.dylib' (no such file), '/Users/malfet/miniforge3/envs/py_39_torch-1.10.2/lib/libpng16.16.dylib' (no such file), '/System/Volumes/Preboot/Cryptexes/OS/Users/malfet/miniforge3/envs/py_39_torch-1.10.2/lib/libpng16.16.dylib' (no such file), '/Users/laraschwarz/miniconda3/envs/deepsort/lib/python3.9/lib-dynload/../../libpng16.16.dylib' (no such file), '/Users/laraschwarz/miniconda3/envs/deepsort/bin/../lib/libpng16.16.dylib' (no such file), '/usr/local/lib/libpng16.16.dylib' (no such file), '/usr/lib/libpng16.16.dylib' (no such file, not in dyld cache)\n",
      "  warn(f\"Failed to load image Python extension: {e}\")\n",
      "\u001b[34m\u001b[1mdetect_track: \u001b[0mweights=['yolov5l.pt'], source=./football-video.mp4, data=data/coco128.yaml, imgsz=[640, 640], conf_thres=0.25, iou_thres=0.45, max_det=1000, device=, view_img=False, save_txt=True, save_conf=False, save_crop=False, nosave=False, classes=[0, 32], agnostic_nms=False, augment=False, visualize=False, update=False, project=runs/detect, name=exp, exist_ok=False, line_thickness=1, hide_labels=False, hide_conf=False, half=False, dnn=False\n",
      "/Users/laraschwarz/Code/reu2025/deepSORT/yolov5/runs\n",
      "YOLOv5 🚀 2022-7-7 Python-3.9.23 torch-1.10.2 CPU\n",
      "\n",
      "Fusing layers... \n",
      "YOLOv5l summary: 367 layers, 46533693 parameters, 0 gradients, 109.0 GFLOPs\n",
      "stem football-video\n",
      "dir /Users/laraschwarz/Code/reu2025/deepSORT/yolov5/runs\n",
      "2025-06-16 11:11:09.186096: I tensorflow/compiler/mlir/mlir_graph_optimization_pass.cc:388] MLIR V1 optimization pass is not enabled\n",
      "Traceback (most recent call last):\n",
      "  File \"/Users/laraschwarz/Code/reu2025/deepSORT/yolov5/detect_track.py\", line 290, in <module>\n",
      "    main(opt)\n",
      "  File \"/Users/laraschwarz/Code/reu2025/deepSORT/yolov5/detect_track.py\", line 286, in main\n",
      "    run(**vars(opt))\n",
      "  File \"/Users/laraschwarz/miniconda3/envs/deepsort/lib/python3.9/site-packages/torch/autograd/grad_mode.py\", line 28, in decorate_context\n",
      "    return func(*args, **kwargs)\n",
      "  File \"/Users/laraschwarz/Code/reu2025/deepSORT/yolov5/detect_track.py\", line 186, in run\n",
      "    detections = [Detection(bbox, score, feature) for bbox, score, feature in zip(bboxes, scores, features)]\n",
      "  File \"/Users/laraschwarz/Code/reu2025/deepSORT/yolov5/detect_track.py\", line 186, in <listcomp>\n",
      "    detections = [Detection(bbox, score, feature) for bbox, score, feature in zip(bboxes, scores, features)]\n",
      "  File \"/Users/laraschwarz/Code/reu2025/deepSORT/yolov5/deep_sort/deep_sort/detection.py\", line 30, in __init__\n",
      "    self.tlwh = np.asarray(tlwh, dtype=np.float)\n",
      "  File \"/Users/laraschwarz/miniconda3/envs/deepsort/lib/python3.9/site-packages/numpy/__init__.py\", line 324, in __getattr__\n",
      "    raise AttributeError(__former_attrs__[attr])\n",
      "AttributeError: module 'numpy' has no attribute 'float'.\n",
      "`np.float` was a deprecated alias for the builtin `float`. To avoid this error in existing code, use `float` by itself. Doing this will not modify any behavior and is safe. If you specifically wanted the numpy scalar type, use `np.float64` here.\n",
      "The aliases was originally deprecated in NumPy 1.20; for more details and guidance see the original release note at:\n",
      "    https://numpy.org/devdocs/release/1.20.0-notes.html#deprecations\n"
     ]
    }
   ],
   "source": [
    "!python detect_track.py --weights yolov5l.pt  --img 640  --source ./football-video.mp4 --save-txt --classes 0 32 --line-thickness 1"
   ]
  },
  {
   "cell_type": "code",
   "execution_count": 7,
   "metadata": {},
   "outputs": [
    {
     "name": "stdout",
     "output_type": "stream",
     "text": [
      "/Users/laraschwarz/Code/reu2025/deepSORT/yolov5\n"
     ]
    },
    {
     "name": "stderr",
     "output_type": "stream",
     "text": [
      "/Users/laraschwarz/miniconda3/envs/deepsort/lib/python3.9/site-packages/IPython/core/magics/osm.py:417: UserWarning: using dhist requires you to install the `pickleshare` library.\n",
      "  self.shell.db['dhist'] = compress_dhist(dhist)[-100:]\n"
     ]
    }
   ],
   "source": [
    "%cd yolov5/"
   ]
  },
  {
   "cell_type": "code",
   "execution_count": 10,
   "metadata": {
    "id": "rAkMBIl8Mzju"
   },
   "outputs": [
    {
     "name": "stdout",
     "output_type": "stream",
     "text": [
      "WARNING:tensorflow:From /Users/laraschwarz/miniconda3/envs/deepsort/lib/python3.9/site-packages/tensorflow/python/compat/v2_compat.py:98: disable_resource_variables (from tensorflow.python.ops.resource_variables_toggle) is deprecated and will be removed in a future version.\n",
      "Instructions for updating:\n",
      "non-resource variables are not supported in the long term\n",
      "\u001b[34m\u001b[1mdetect_track: \u001b[0mweights=['yolov5m.pt'], source=./sprint.mp4, data=data/coco128.yaml, imgsz=[640, 640], conf_thres=0.25, iou_thres=0.45, max_det=1000, device=, view_img=False, save_txt=True, save_conf=False, save_crop=False, nosave=False, classes=[0], agnostic_nms=False, augment=False, visualize=False, update=False, project=runs/detect, name=exp, exist_ok=False, line_thickness=1, hide_labels=False, hide_conf=False, half=False, dnn=False\n",
      "/Users/laraschwarz/Code/reu2025/deepSORT/yolov5/runs\n",
      "YOLOv5 🚀 2022-7-7 Python-3.9.23 torch-2.7.1 CPU\n",
      "\n",
      "Traceback (most recent call last):\n",
      "  File \"/Users/laraschwarz/Code/reu2025/deepSORT/yolov5/detect_track.py\", line 290, in <module>\n",
      "    main(opt)\n",
      "  File \"/Users/laraschwarz/Code/reu2025/deepSORT/yolov5/detect_track.py\", line 286, in main\n",
      "    run(**vars(opt))\n",
      "  File \"/Users/laraschwarz/miniconda3/envs/deepsort/lib/python3.9/site-packages/torch/utils/_contextlib.py\", line 116, in decorate_context\n",
      "    return func(*args, **kwargs)\n",
      "  File \"/Users/laraschwarz/Code/reu2025/deepSORT/yolov5/detect_track.py\", line 100, in run\n",
      "    model = DetectMultiBackend(weights, device=device, dnn=dnn, data=data, fp16=half)\n",
      "  File \"/Users/laraschwarz/Code/reu2025/deepSORT/yolov5/models/common.py\", line 328, in __init__\n",
      "    model = attempt_load(weights if isinstance(weights, list) else w, map_location=device)\n",
      "  File \"/Users/laraschwarz/Code/reu2025/deepSORT/yolov5/models/experimental.py\", line 80, in attempt_load\n",
      "    ckpt = torch.load(attempt_download(w), map_location=map_location)  # load\n",
      "  File \"/Users/laraschwarz/miniconda3/envs/deepsort/lib/python3.9/site-packages/torch/serialization.py\", line 1524, in load\n",
      "    raise pickle.UnpicklingError(_get_wo_message(str(e))) from None\n",
      "_pickle.UnpicklingError: Weights only load failed. This file can still be loaded, to do so you have two options, \u001b[1mdo those steps only if you trust the source of the checkpoint\u001b[0m. \n",
      "\t(1) In PyTorch 2.6, we changed the default value of the `weights_only` argument in `torch.load` from `False` to `True`. Re-running `torch.load` with `weights_only` set to `False` will likely succeed, but it can result in arbitrary code execution. Do it only if you got the file from a trusted source.\n",
      "\t(2) Alternatively, to load with `weights_only=True` please check the recommended steps in the following error message.\n",
      "\tWeightsUnpickler error: Unsupported global: GLOBAL models.yolo.Model was not an allowed global by default. Please use `torch.serialization.add_safe_globals([models.yolo.Model])` or the `torch.serialization.safe_globals([models.yolo.Model])` context manager to allowlist this global if you trust this class/function.\n",
      "\n",
      "Check the documentation of torch.load to learn more about types accepted by default with weights_only https://pytorch.org/docs/stable/generated/torch.load.html.\n"
     ]
    }
   ],
   "source": [
    "!python detect_track.py --weights yolov5m.pt  --img 640  --source ./sprint.mp4 --save-txt --classes 0 --line-thickness 1"
   ]
  },
  {
   "cell_type": "markdown",
   "metadata": {
    "id": "YQNYZ9EaM_Rt"
   },
   "source": [
    "# Performance evaluation"
   ]
  },
  {
   "cell_type": "markdown",
   "metadata": {
    "id": "edrkt610Nftf"
   },
   "source": [
    "## Running DeepSORT on MOT17 videos."
   ]
  },
  {
   "cell_type": "markdown",
   "metadata": {
    "id": "F2Tp5HeoOH6a"
   },
   "source": [
    "Download MOT videos and labels from [here](https://drive.google.com/drive/folders/1MUa8H9kaW3gTkvn4BYd-84mqlfgC-kE4?usp=sharing)."
   ]
  },
  {
   "cell_type": "code",
   "execution_count": null,
   "metadata": {
    "id": "OPa6aHA2DQNV"
   },
   "outputs": [],
   "source": [
    "!python detect_track.py --weights yolov5m.pt  --img 640  --source ./MOT17/videos/MOT17-02-DPM.mp4 --save-txt --class 0 --line-thickness 1"
   ]
  },
  {
   "cell_type": "code",
   "execution_count": null,
   "metadata": {
    "id": "PQaQSpeo_ZTK"
   },
   "outputs": [],
   "source": [
    "!python detect_track.py --weights yolov5m.pt  --img 640  --source ./MOT17/videos/MOT17-04-DPM.mp4 --save-txt --class 0 --line-thickness 1"
   ]
  },
  {
   "cell_type": "code",
   "execution_count": null,
   "metadata": {
    "id": "Cv9lHZbrN6n_"
   },
   "outputs": [],
   "source": [
    "!python detect_track.py --weights yolov5m.pt  --img 640  --source ./MOT17/videos/MOT17-10-DPM.mp4 --save-txt --class 0 --line-thickness 1"
   ]
  },
  {
   "cell_type": "markdown",
   "metadata": {
    "id": "D9k-XWxwNoJw"
   },
   "source": [
    "## Cloning MOT evaluation code"
   ]
  },
  {
   "cell_type": "code",
   "execution_count": null,
   "metadata": {
    "id": "smlH4tx7eIo_"
   },
   "outputs": [],
   "source": [
    "!git clone https://github.com/shenh10/mot_evaluation.git"
   ]
  },
  {
   "cell_type": "code",
   "execution_count": null,
   "metadata": {
    "id": "KfY1M074UlhZ"
   },
   "outputs": [],
   "source": [
    "%cd ./mot_evaluation"
   ]
  },
  {
   "cell_type": "markdown",
   "metadata": {
    "id": "jO3MCbUsN44w"
   },
   "source": [
    "## Performing evaluation"
   ]
  },
  {
   "cell_type": "code",
   "execution_count": null,
   "metadata": {
    "colab": {
     "base_uri": "https://localhost:8080/"
    },
    "id": "NGfHhdHXUJVs",
    "outputId": "81978b7c-1353-4475-9416-45357eb69321"
   },
   "outputs": [
    {
     "name": "stdout",
     "output_type": "stream",
     "text": [
      "[GT PREPROCESSING]: Removing non-people classes, remaining 52355/108005 boxes\n",
      "[TRACK PREPROCESSING]: remove distractors and low visibility boxes,remaining 22685/22892 computed boxes\n",
      "Distractors: 45, 46, 79, 81, 136\n",
      "[GT PREPROCESSING]: Removing distractor boxes, remaining 47557/52355 boxes\n",
      "\n",
      "****************************** MOT17-04-DPM.mp4 Evaluation ******************************\n",
      "IDF1  IDP  IDR  | Rcll  Prcn  FAR   | GT   MT   PT   ML   | FP     FN     IDs   FM    | MOTA  MOTP  MOTAL\n",
      " 47.2 73.1 34.9 |  36.5  82.4  3.54 |   83    6   38   39 |   3720  30195    45   239 |  28.6  82.2  28.7\n",
      "\n",
      "\n",
      "\n",
      "[GT PREPROCESSING]: Removing non-people classes, remaining 26601/30003 boxes\n",
      "[TRACK PREPROCESSING]: remove distractors and low visibility boxes,remaining 7313/7865 computed boxes\n",
      "Distractors: 1, 5, 6, 11, 12, 13, 24, 25, 30, 45, 46, 47, 65, 66\n",
      "[GT PREPROCESSING]: Removing distractor boxes, remaining 18581/26601 boxes\n",
      "\n",
      "****************************** MOT17-02-DPM.mp4 Evaluation ******************************\n",
      "IDF1  IDP  IDR  | Rcll  Prcn  FAR   | GT   MT   PT   ML   | FP     FN     IDs   FM    | MOTA  MOTP  MOTAL\n",
      " 31.5 55.8 22.0 |  30.6  77.9  2.70 |   62    7   19   36 |   1619  12887    87   187 |  21.5  77.9  21.9\n",
      "\n",
      "\n",
      "\n",
      "[GT PREPROCESSING]: Removing non-people classes, remaining 14685/17450 boxes\n",
      "[TRACK PREPROCESSING]: remove distractors and low visibility boxes,remaining 7776/8334 computed boxes\n",
      "Distractors: 51, 52, 61, 62, 63, 64\n",
      "[GT PREPROCESSING]: Removing distractor boxes, remaining 12839/14685 boxes\n",
      "\n",
      "****************************** MOT17-10-DPM.mp4 Evaluation ******************************\n",
      "IDF1  IDP  IDR  | Rcll  Prcn  FAR   | GT   MT   PT   ML   | FP     FN     IDs   FM    | MOTA  MOTP  MOTAL\n",
      " 42.9 56.9 34.5 |  50.2  82.9  2.03 |   57   11   24   22 |   1329   6392   104   276 |  39.1  74.7  39.8\n",
      "\n",
      "\n",
      "\n",
      "\n",
      "****************************** Summary Evaluation ******************************\n",
      "IDF1  IDP  IDR  | Rcll  Prcn  FAR   | GT   MT   PT   ML   | FP     FN     IDs   FM    | MOTA  MOTP  MOTAL\n",
      " 43.0 66.4 31.8 |  37.4  81.6  2.89 |  202   24   81   97 |   6668  49474   236   702 |  28.6  79.7  28.9\n",
      "\n",
      "\n",
      "\n"
     ]
    }
   ],
   "source": [
    "!python evaluate_tracking.py --seqmap '../MOT17/videos' --track '../runs/' --gt '/content/gdrive/MyDrive/tracking_test_data/person_gt_tracking/label_960x540'"
   ]
  }
 ],
 "metadata": {
  "accelerator": "GPU",
  "colab": {
   "collapsed_sections": [],
   "name": "Understanding_Multiple_Object_Tracking_using_DeepSORT.ipynb",
   "provenance": []
  },
  "kernelspec": {
   "display_name": "Python (deepsort)",
   "language": "python",
   "name": "deepsort"
  },
  "language_info": {
   "codemirror_mode": {
    "name": "ipython",
    "version": 3
   },
   "file_extension": ".py",
   "mimetype": "text/x-python",
   "name": "python",
   "nbconvert_exporter": "python",
   "pygments_lexer": "ipython3",
   "version": "3.9.23"
  }
 },
 "nbformat": 4,
 "nbformat_minor": 0
}
